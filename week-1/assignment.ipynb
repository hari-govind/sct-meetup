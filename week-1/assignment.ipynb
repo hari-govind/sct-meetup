{
  "nbformat": 4,
  "nbformat_minor": 0,
  "metadata": {
    "colab": {
      "name": "Copy of assignment.ipynb",
      "version": "0.3.2",
      "provenance": [],
      "collapsed_sections": []
    },
    "kernelspec": {
      "display_name": "Python [conda env:pytorch]",
      "language": "python",
      "name": "conda-env-pytorch-py"
    }
  },
  "cells": [
    {
      "metadata": {
        "id": "-b0mGGBDg-Mu",
        "colab_type": "text"
      },
      "cell_type": "markdown",
      "source": [
        "### Assignment - Intro to Python and Data Structures\n",
        "The assignment is for students to get a feel of the lesson discussed this week. You are free to ask any doubts regarding working out any questions in the group. Also, updating the worked out notebook on Github is very much engaged, be sure to mention School of AI, Trivandrum. Additional recognition for students who document the work using *markdown*."
      ]
    },
    {
      "metadata": {
        "id": "jcCT4ZNkg-Mx",
        "colab_type": "text"
      },
      "cell_type": "markdown",
      "source": [
        "##### 1) Read the contents of test.csv "
      ]
    },
    {
      "metadata": {
        "id": "EuSSKmYQoCGv",
        "colab_type": "text"
      },
      "cell_type": "markdown",
      "source": [
        "**1.1 Download test.csv file from github and store to Data folder.**\n",
        "\n",
        "\n"
      ]
    },
    {
      "metadata": {
        "id": "l3sHyyPJg-My",
        "colab_type": "code",
        "colab": {
          "base_uri": "https://localhost:8080/",
          "height": 204
        },
        "outputId": "05228f08-1788-447a-bc0f-032f29ed739a"
      },
      "cell_type": "code",
      "source": [
        "!mkdir Data && wget -O Data/test.csv https://raw.githubusercontent.com/hari-govind/sct-meetup/master/week-1/Data/test.csv"
      ],
      "execution_count": 2,
      "outputs": [
        {
          "output_type": "stream",
          "text": [
            "--2019-02-14 15:30:23--  https://raw.githubusercontent.com/hari-govind/sct-meetup/master/week-1/Data/test.csv\n",
            "Resolving raw.githubusercontent.com (raw.githubusercontent.com)... 151.101.0.133, 151.101.64.133, 151.101.128.133, ...\n",
            "Connecting to raw.githubusercontent.com (raw.githubusercontent.com)|151.101.0.133|:443... connected.\n",
            "HTTP request sent, awaiting response... 200 OK\n",
            "Length: 784 [text/plain]\n",
            "Saving to: ‘Data/test.csv’\n",
            "\n",
            "\rData/test.csv         0%[                    ]       0  --.-KB/s               \rData/test.csv       100%[===================>]     784  --.-KB/s    in 0s      \n",
            "\n",
            "2019-02-14 15:30:24 (76.7 MB/s) - ‘Data/test.csv’ saved [784/784]\n",
            "\n"
          ],
          "name": "stdout"
        }
      ]
    },
    {
      "metadata": {
        "id": "cNsdoG-2ojPa",
        "colab_type": "text"
      },
      "cell_type": "markdown",
      "source": [
        "**1.2 Storing contents of test.csv in a variable and printing it**"
      ]
    },
    {
      "metadata": {
        "id": "yD4Tg_QAsH4a",
        "colab_type": "code",
        "colab": {
          "base_uri": "https://localhost:8080/",
          "height": 306
        },
        "outputId": "c824597f-be15-4da3-a249-2e7c3da50360"
      },
      "cell_type": "code",
      "source": [
        "'''Getting Contents of File'''\n",
        "\n",
        "test_file = open('Data/test.csv', 'rw')\n",
        "contents = test_file.read()\n",
        "test_file.close()\n",
        "print(contents)\n"
      ],
      "execution_count": 5,
      "outputs": [
        {
          "output_type": "stream",
          "text": [
            "Loan_ID,Gender,Married,Education,ApplicantIncome,LoanAmount,Property_Area\n",
            "LP001015,Male,Yes,Graduate,5720,110,Urban\n",
            "LP001022,Male,Yes,Graduate,3076,126,Urban\n",
            "LP001031,Male,Yes,Graduate,5000,208,Urban\n",
            "LP001035,Male,Yes,Graduate,2340,100,Urban\n",
            "LP001051,Male,No,Not Graduate,3276,78,Urban\n",
            "LP001054,Male,Yes,Not Graduate,2165,152,Urban\n",
            "LP001055,Female,No,Not Graduate,2226,59,Semiurban\n",
            "LP001056,Male,Yes,Not Graduate,3881,147,Rural\n",
            "LP001059,Male,Yes,Graduate,13633,280,Urban\n",
            "LP001067,Male,No,Not Graduate,2400,123,Semiurban\n",
            "LP001078,Male,No,Not Graduate,3091,90,Urban\n",
            "LP001082,Male,Yes,Graduate,2185,162,Semiurban\n",
            "LP001083,Male,No,Graduate,4166,40,Urban\n",
            "LP001094,Male,Yes,Graduate,12173,166,Semiurban\n",
            "LP001096,Female,No,Graduate,4666,124,Semiurban\n",
            "LP001099,Male,No,Graduate,5667,131,Urban\n"
          ],
          "name": "stdout"
        }
      ]
    },
    {
      "metadata": {
        "id": "uNyFM-BsuaLU",
        "colab_type": "text"
      },
      "cell_type": "markdown",
      "source": [
        "**1.3 Storing data as a dictionary**"
      ]
    },
    {
      "metadata": {
        "id": "U9hhDtHwvJeO",
        "colab_type": "code",
        "colab": {
          "base_uri": "https://localhost:8080/",
          "height": 54
        },
        "outputId": "eef7bce8-e466-41a5-cd55-0ee6ec750826"
      },
      "cell_type": "code",
      "source": [
        "\n",
        "'''Storing Contents of File in Dictionary'''\n",
        "\n",
        "dictionary_data = {} #Empty dict for storing data\n",
        "headings = contents.split('\\n',1)[0].split(',')    #header row\n",
        "\n",
        "for heading in headings:\n",
        "  dictionary_data[heading] = []\n",
        "  \n",
        "for row in contents.split('\\n',1)[1].split('\\n'):   #getting rows excluding header row\n",
        "  row_contents = row.split(',')  #data fields\n",
        "  \n",
        "  for i in range(len(row_contents)):\n",
        "    dictionary_data[headings[i]].append(row_contents[i])   #append fields to respective dictionary keys\n",
        "    \n",
        "print(dictionary_data)"
      ],
      "execution_count": 12,
      "outputs": [
        {
          "output_type": "stream",
          "text": [
            "{'Property_Area': ['Urban', 'Urban', 'Urban', 'Urban', 'Urban', 'Urban', 'Semiurban', 'Rural', 'Urban', 'Semiurban', 'Urban', 'Semiurban', 'Urban', 'Semiurban', 'Semiurban', 'Urban'], 'Loan_ID': ['LP001015', 'LP001022', 'LP001031', 'LP001035', 'LP001051', 'LP001054', 'LP001055', 'LP001056', 'LP001059', 'LP001067', 'LP001078', 'LP001082', 'LP001083', 'LP001094', 'LP001096', 'LP001099'], 'LoanAmount': ['110', '126', '208', '100', '78', '152', '59', '147', '280', '123', '90', '162', '40', '166', '124', '131'], 'Gender': ['Male', 'Male', 'Male', 'Male', 'Male', 'Male', 'Female', 'Male', 'Male', 'Male', 'Male', 'Male', 'Male', 'Male', 'Female', 'Male'], 'Married': ['Yes', 'Yes', 'Yes', 'Yes', 'No', 'Yes', 'No', 'Yes', 'Yes', 'No', 'No', 'Yes', 'No', 'Yes', 'No', 'No'], 'ApplicantIncome': ['5720', '3076', '5000', '2340', '3276', '2165', '2226', '3881', '13633', '2400', '3091', '2185', '4166', '12173', '4666', '5667'], 'Education': ['Graduate', 'Graduate', 'Graduate', 'Graduate', 'Not Graduate', 'Not Graduate', 'Not Graduate', 'Not Graduate', 'Graduate', 'Not Graduate', 'Not Graduate', 'Graduate', 'Graduate', 'Graduate', 'Graduate', 'Graduate']}\n"
          ],
          "name": "stdout"
        }
      ]
    },
    {
      "metadata": {
        "id": "DrZlyQ-vg-M3",
        "colab_type": "text"
      },
      "cell_type": "markdown",
      "source": [
        "##### 2) Replace the *Graduate* and *Not Graduate* in the Education column by 1 and 0 respectively"
      ]
    },
    {
      "metadata": {
        "id": "FbCQ2vlQg-M4",
        "colab_type": "code",
        "colab": {
          "base_uri": "https://localhost:8080/",
          "height": 54
        },
        "outputId": "f6ea3637-9bf8-4ee4-aeb7-e543e13d42de"
      },
      "cell_type": "code",
      "source": [
        "for i in range(len(dictionary_data['Education'])):\n",
        "  dictionary_data['Education'][i] = 1 if dictionary_data['Education'][i] == 'Graduate' else 0\n",
        "\n",
        "print(dictionary_data)"
      ],
      "execution_count": 14,
      "outputs": [
        {
          "output_type": "stream",
          "text": [
            "{'Property_Area': ['Urban', 'Urban', 'Urban', 'Urban', 'Urban', 'Urban', 'Semiurban', 'Rural', 'Urban', 'Semiurban', 'Urban', 'Semiurban', 'Urban', 'Semiurban', 'Semiurban', 'Urban'], 'Loan_ID': ['LP001015', 'LP001022', 'LP001031', 'LP001035', 'LP001051', 'LP001054', 'LP001055', 'LP001056', 'LP001059', 'LP001067', 'LP001078', 'LP001082', 'LP001083', 'LP001094', 'LP001096', 'LP001099'], 'LoanAmount': ['110', '126', '208', '100', '78', '152', '59', '147', '280', '123', '90', '162', '40', '166', '124', '131'], 'Gender': ['Male', 'Male', 'Male', 'Male', 'Male', 'Male', 'Female', 'Male', 'Male', 'Male', 'Male', 'Male', 'Male', 'Male', 'Female', 'Male'], 'Married': ['Yes', 'Yes', 'Yes', 'Yes', 'No', 'Yes', 'No', 'Yes', 'Yes', 'No', 'No', 'Yes', 'No', 'Yes', 'No', 'No'], 'ApplicantIncome': ['5720', '3076', '5000', '2340', '3276', '2165', '2226', '3881', '13633', '2400', '3091', '2185', '4166', '12173', '4666', '5667'], 'Education': [1, 1, 1, 1, 0, 0, 0, 0, 1, 0, 0, 1, 1, 1, 1, 1]}\n"
          ],
          "name": "stdout"
        }
      ]
    },
    {
      "metadata": {
        "id": "Zc3gJE8Kg-M9",
        "colab_type": "text"
      },
      "cell_type": "markdown",
      "source": [
        "##### 3) Find the minimum and maximum value of *Loan Amount*. Also calculate the mean *Loan Amount*\n"
      ]
    },
    {
      "metadata": {
        "id": "Reqem3S0EZAE",
        "colab_type": "text"
      },
      "cell_type": "markdown",
      "source": [
        "Finding minimum and maximum loan amount. \n"
      ]
    },
    {
      "metadata": {
        "id": "nUYcOLZUg-M-",
        "colab_type": "code",
        "colab": {
          "base_uri": "https://localhost:8080/",
          "height": 51
        },
        "outputId": "ca3867cd-2184-40dd-8ce4-30c7a6cf6673"
      },
      "cell_type": "code",
      "source": [
        "LoanAmounts = [int(LoanAmount) for LoanAmount in dictionary_data['LoanAmount']] #LoanAmount needs to be in int for numerical operations\n",
        "min_loan = min(LoanAmounts) \n",
        "print('Minimum Loan: ' + str(min_loan))\n",
        "max_loan = max(LoanAmounts)\n",
        "print('Maximum Loan: ' + str(max_loan))"
      ],
      "execution_count": 27,
      "outputs": [
        {
          "output_type": "stream",
          "text": [
            "Minimum Loan: 40\n",
            "Maximum Loan: 280\n"
          ],
          "name": "stdout"
        }
      ]
    },
    {
      "metadata": {
        "id": "7m92WIx9dTu0",
        "colab_type": "text"
      },
      "cell_type": "markdown",
      "source": [
        "Finding mean loan amount. "
      ]
    },
    {
      "metadata": {
        "id": "NG6AqZMxdcGM",
        "colab_type": "code",
        "colab": {
          "base_uri": "https://localhost:8080/",
          "height": 34
        },
        "outputId": "06b7932b-92cf-4d8b-c982-60078d36a7a2"
      },
      "cell_type": "code",
      "source": [
        "mean_loan = sum(LoanAmounts)/len(LoanAmounts)\n",
        "print('Mean Amount: ' + str(mean_loan))"
      ],
      "execution_count": 29,
      "outputs": [
        {
          "output_type": "stream",
          "text": [
            "Mean Amount: 131\n"
          ],
          "name": "stdout"
        }
      ]
    }
  ]
}
